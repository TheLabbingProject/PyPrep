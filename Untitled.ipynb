{
 "nbformat": 4,
 "nbformat_minor": 2,
 "metadata": {
  "language_info": {
   "name": "python",
   "codemirror_mode": {
    "name": "ipython",
    "version": 3
   },
   "version": "3.7.5-final"
  },
  "orig_nbformat": 2,
  "file_extension": ".py",
  "mimetype": "text/x-python",
  "name": "python",
  "npconvert_exporter": "python",
  "pygments_lexer": "ipython3",
  "version": 3,
  "kernelspec": {
   "name": "python37564bitvenvvenvd6aedc68f98d489488977e1a473a9525",
   "display_name": "Python 3.7.5 64-bit ('venv': venv)"
  }
 },
 "cells": [
  {
   "cell_type": "code",
   "execution_count": 13,
   "metadata": {},
   "outputs": [],
   "source": [
    "from pathlib import Path\n",
    "from nipype.interfaces import fsl\n",
    "func = Path(\"/home/gal/derivatives/sub-09/func/func.feat/filtered_func_data.nii.gz\")\n",
    "dwi = Path(\"/home/gal/derivatives/sub-09/dwi/sub-09_acq-AP_dwi_preprocessed_biascorr.nii.gz\")\n",
    "anat = Path(\"/home/gal/derivatives/sub-09/anat/prep.anat.anat/T1_biascorr_brain.nii.gz\")\n",
    "aff = Path(\"/home/gal/derivatives/sub-09/anat/prep.anat.anat/T1_to_MNI_lin.mat\")\n",
    "trial = Path(\"/home/gal/derivatives/sub-09/anat/prep.anat.anat/trial\")\n",
    "megaatlas = Path(\"/home/gal/NetworksProject/PyPrep/atlases/megaatlas/MegaAtlas_Labels_highres.nii\")\n",
    "warp = Path(\"/home/gal/derivatives/sub-09/func/func.feat/reg/highres2standard_warp.nii.gz\")"
   ]
  },
  {
   "cell_type": "code",
   "execution_count": 3,
   "metadata": {},
   "outputs": [
    {
     "output_type": "execute_result",
     "data": {
      "text/plain": "<nipype.interfaces.base.support.InterfaceResult at 0x7f514ad5f750>"
     },
     "metadata": {},
     "execution_count": 3
    }
   ],
   "source": [
    "invt = fsl.ConvertXFM()\n",
    "invt.inputs.in_file = aff\n",
    "invt.inputs.invert_xfm = True\n",
    "invt.inputs.out_file = trial / \"MNI2T1.mat\"\n",
    "invt.run()"
   ]
  },
  {
   "cell_type": "code",
   "execution_count": 8,
   "metadata": {},
   "outputs": [
    {
     "output_type": "execute_result",
     "data": {
      "text/plain": "<nipype.interfaces.base.support.InterfaceResult at 0x7f5146b22850>"
     },
     "metadata": {},
     "execution_count": 8
    }
   ],
   "source": [
    "flt = fsl.FLIRT()\n",
    "flt.inputs.in_file = megaatlas\n",
    "flt.inputs.reference = anat\n",
    "flt.inputs.out_file = trial / 'MNI2T1_lin.nii.gz'\n",
    "flt.inputs.out_matrix_file = trial / 'MNI2T1_aff.mat'\n",
    "flt.run()"
   ]
  },
  {
   "cell_type": "code",
   "execution_count": 16,
   "metadata": {},
   "outputs": [
    {
     "output_type": "execute_result",
     "data": {
      "text/plain": "<nipype.interfaces.base.support.InterfaceResult at 0x7f515cae7250>"
     },
     "metadata": {},
     "execution_count": 16
    }
   ],
   "source": [
    "fnt = fsl.ApplyWarp()\n",
    "fnt.inputs.in_file = megaatlas\n",
    "fnt.inputs.ref_file = anat\n",
    "#fnt.inputs.affine_file = trial / \"MNI2T1_aff.mat\"\n",
    "fnt.inputs.field_file = \"/home/gal/derivatives/sub-09/anat/prep.anat.anat/MNI_to_T1_nonlin_field.nii.gz\"\n",
    "fnt.inputs.out_file = trial / \"highres_atlas2T1.nii.gz\"\n",
    "fnt.run()"
   ]
  },
  {
   "cell_type": "code",
   "execution_count": 14,
   "metadata": {},
   "outputs": [
    {
     "output_type": "execute_result",
     "data": {
      "text/plain": "<nipype.interfaces.base.support.InterfaceResult at 0x7f5143ca5410>"
     },
     "metadata": {},
     "execution_count": 14
    }
   ],
   "source": [
    "invwarp = fsl.InvWarp()\n",
    "invwarp.inputs.warp = warp\n",
    "invwarp.inputs.reference = anat\n",
    "invwarp.inputs.inverse_warp = trial / \"highres_atlas2T1_field2.nii.gz\"\n",
    "invwarp.run()"
   ]
  }
 ]
}